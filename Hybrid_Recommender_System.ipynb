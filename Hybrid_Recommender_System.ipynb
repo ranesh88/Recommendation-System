{
  "nbformat": 4,
  "nbformat_minor": 0,
  "metadata": {
    "kernelspec": {
      "display_name": "Python 3",
      "language": "python",
      "name": "python3"
    },
    "language_info": {
      "codemirror_mode": {
        "name": "ipython",
        "version": 3
      },
      "file_extension": ".py",
      "mimetype": "text/x-python",
      "name": "python",
      "nbconvert_exporter": "python",
      "pygments_lexer": "ipython3",
      "version": "3.8.5"
    },
    "colab": {
      "name": "Hybrid Recommender System.ipynb",
      "provenance": [],
      "toc_visible": true,
      "include_colab_link": true
    }
  },
  "cells": [
    {
      "cell_type": "markdown",
      "metadata": {
        "id": "view-in-github",
        "colab_type": "text"
      },
      "source": [
        "<a href=\"https://colab.research.google.com/github/ranesh88/Recommendation-System/blob/main/Hybrid_Recommender_System.ipynb\" target=\"_parent\"><img src=\"https://colab.research.google.com/assets/colab-badge.svg\" alt=\"Open In Colab\"/></a>"
      ]
    },
    {
      "cell_type": "markdown",
      "metadata": {
        "id": "g7VDlwfEUyiA"
      },
      "source": [
        "# Hybrid Recommender System\n",
        "\n",
        "Our goal is to create a hybrid Recommender System. From the differnt methods we have learng (Content Based & Collaborative Based (User, Item, KNN)), we will employ a total of 3 methods"
      ]
    },
    {
      "cell_type": "code",
      "metadata": {
        "id": "Yj4ZbVmuUyiF"
      },
      "source": [
        "# Imports\n",
        "\n",
        "import numpy as np\n",
        "import pandas as pd\n",
        "import matplotlib.pyplot as plt\n",
        "import seaborn as sns\n",
        "\n",
        "import warnings\n",
        "warnings.filterwarnings('ignore')"
      ],
      "execution_count": 2,
      "outputs": []
    },
    {
      "cell_type": "code",
      "metadata": {
        "id": "YgEgwq2IUyiG"
      },
      "source": [
        "df_movies = pd.read_csv('/content/movies.csv')\n",
        "df_ratings = pd.read_csv('/content/ratings.csv')"
      ],
      "execution_count": 3,
      "outputs": []
    },
    {
      "cell_type": "code",
      "metadata": {
        "id": "4c88qnprUyiG",
        "colab": {
          "base_uri": "https://localhost:8080/"
        },
        "outputId": "317b5449-2174-4171-e71a-0393c8aedf3d"
      },
      "source": [
        "df_movies.shape"
      ],
      "execution_count": 4,
      "outputs": [
        {
          "output_type": "execute_result",
          "data": {
            "text/plain": [
              "(9125, 3)"
            ]
          },
          "metadata": {
            "tags": []
          },
          "execution_count": 4
        }
      ]
    },
    {
      "cell_type": "code",
      "metadata": {
        "id": "OaTvbCY5UyiH",
        "colab": {
          "base_uri": "https://localhost:8080/"
        },
        "outputId": "2041d8fa-2028-4bee-e449-31753aa05266"
      },
      "source": [
        "df_movies.info()"
      ],
      "execution_count": 6,
      "outputs": [
        {
          "output_type": "stream",
          "text": [
            "<class 'pandas.core.frame.DataFrame'>\n",
            "RangeIndex: 9125 entries, 0 to 9124\n",
            "Data columns (total 3 columns):\n",
            " #   Column   Non-Null Count  Dtype \n",
            "---  ------   --------------  ----- \n",
            " 0   movieId  9125 non-null   int64 \n",
            " 1   title    9125 non-null   object\n",
            " 2   genres   9125 non-null   object\n",
            "dtypes: int64(1), object(2)\n",
            "memory usage: 214.0+ KB\n"
          ],
          "name": "stdout"
        }
      ]
    },
    {
      "cell_type": "code",
      "metadata": {
        "id": "0RuLi3ZoUyiI",
        "colab": {
          "base_uri": "https://localhost:8080/",
          "height": 195
        },
        "outputId": "febe707f-197f-48a4-8632-556a215db110"
      },
      "source": [
        "df_movies.head()"
      ],
      "execution_count": 7,
      "outputs": [
        {
          "output_type": "execute_result",
          "data": {
            "text/html": [
              "<div>\n",
              "<style scoped>\n",
              "    .dataframe tbody tr th:only-of-type {\n",
              "        vertical-align: middle;\n",
              "    }\n",
              "\n",
              "    .dataframe tbody tr th {\n",
              "        vertical-align: top;\n",
              "    }\n",
              "\n",
              "    .dataframe thead th {\n",
              "        text-align: right;\n",
              "    }\n",
              "</style>\n",
              "<table border=\"1\" class=\"dataframe\">\n",
              "  <thead>\n",
              "    <tr style=\"text-align: right;\">\n",
              "      <th></th>\n",
              "      <th>movieId</th>\n",
              "      <th>title</th>\n",
              "      <th>genres</th>\n",
              "    </tr>\n",
              "  </thead>\n",
              "  <tbody>\n",
              "    <tr>\n",
              "      <th>0</th>\n",
              "      <td>1</td>\n",
              "      <td>Toy Story (1995)</td>\n",
              "      <td>Adventure|Animation|Children|Comedy|Fantasy</td>\n",
              "    </tr>\n",
              "    <tr>\n",
              "      <th>1</th>\n",
              "      <td>2</td>\n",
              "      <td>Jumanji (1995)</td>\n",
              "      <td>Adventure|Children|Fantasy</td>\n",
              "    </tr>\n",
              "    <tr>\n",
              "      <th>2</th>\n",
              "      <td>3</td>\n",
              "      <td>Grumpier Old Men (1995)</td>\n",
              "      <td>Comedy|Romance</td>\n",
              "    </tr>\n",
              "    <tr>\n",
              "      <th>3</th>\n",
              "      <td>4</td>\n",
              "      <td>Waiting to Exhale (1995)</td>\n",
              "      <td>Comedy|Drama|Romance</td>\n",
              "    </tr>\n",
              "    <tr>\n",
              "      <th>4</th>\n",
              "      <td>5</td>\n",
              "      <td>Father of the Bride Part II (1995)</td>\n",
              "      <td>Comedy</td>\n",
              "    </tr>\n",
              "  </tbody>\n",
              "</table>\n",
              "</div>"
            ],
            "text/plain": [
              "   movieId  ...                                       genres\n",
              "0        1  ...  Adventure|Animation|Children|Comedy|Fantasy\n",
              "1        2  ...                   Adventure|Children|Fantasy\n",
              "2        3  ...                               Comedy|Romance\n",
              "3        4  ...                         Comedy|Drama|Romance\n",
              "4        5  ...                                       Comedy\n",
              "\n",
              "[5 rows x 3 columns]"
            ]
          },
          "metadata": {
            "tags": []
          },
          "execution_count": 7
        }
      ]
    },
    {
      "cell_type": "code",
      "metadata": {
        "id": "qjVDIvPJUyiI"
      },
      "source": [
        "# sorted(df_movies['genres'].unique())"
      ],
      "execution_count": null,
      "outputs": []
    },
    {
      "cell_type": "code",
      "metadata": {
        "id": "IMrjvhi2UyiI",
        "colab": {
          "base_uri": "https://localhost:8080/"
        },
        "outputId": "f69aab5c-c418-4171-b3ce-b6ec838ffb4d"
      },
      "source": [
        "df_ratings.shape"
      ],
      "execution_count": 8,
      "outputs": [
        {
          "output_type": "execute_result",
          "data": {
            "text/plain": [
              "(100004, 4)"
            ]
          },
          "metadata": {
            "tags": []
          },
          "execution_count": 8
        }
      ]
    },
    {
      "cell_type": "code",
      "metadata": {
        "id": "T2VHPPzNUyiI",
        "colab": {
          "base_uri": "https://localhost:8080/"
        },
        "outputId": "4f117ccb-f256-44d2-9759-f4f3f69ea1b2"
      },
      "source": [
        "df_ratings.info()"
      ],
      "execution_count": 9,
      "outputs": [
        {
          "output_type": "stream",
          "text": [
            "<class 'pandas.core.frame.DataFrame'>\n",
            "RangeIndex: 100004 entries, 0 to 100003\n",
            "Data columns (total 4 columns):\n",
            " #   Column     Non-Null Count   Dtype  \n",
            "---  ------     --------------   -----  \n",
            " 0   userId     100004 non-null  int64  \n",
            " 1   movieId    100004 non-null  int64  \n",
            " 2   rating     100004 non-null  float64\n",
            " 3   timestamp  100004 non-null  int64  \n",
            "dtypes: float64(1), int64(3)\n",
            "memory usage: 3.1 MB\n"
          ],
          "name": "stdout"
        }
      ]
    },
    {
      "cell_type": "code",
      "metadata": {
        "id": "a8R9ii59UyiJ",
        "colab": {
          "base_uri": "https://localhost:8080/",
          "height": 195
        },
        "outputId": "7895a183-c328-4a44-cb7c-b166b6e390be"
      },
      "source": [
        "df_ratings.head()"
      ],
      "execution_count": 10,
      "outputs": [
        {
          "output_type": "execute_result",
          "data": {
            "text/html": [
              "<div>\n",
              "<style scoped>\n",
              "    .dataframe tbody tr th:only-of-type {\n",
              "        vertical-align: middle;\n",
              "    }\n",
              "\n",
              "    .dataframe tbody tr th {\n",
              "        vertical-align: top;\n",
              "    }\n",
              "\n",
              "    .dataframe thead th {\n",
              "        text-align: right;\n",
              "    }\n",
              "</style>\n",
              "<table border=\"1\" class=\"dataframe\">\n",
              "  <thead>\n",
              "    <tr style=\"text-align: right;\">\n",
              "      <th></th>\n",
              "      <th>userId</th>\n",
              "      <th>movieId</th>\n",
              "      <th>rating</th>\n",
              "      <th>timestamp</th>\n",
              "    </tr>\n",
              "  </thead>\n",
              "  <tbody>\n",
              "    <tr>\n",
              "      <th>0</th>\n",
              "      <td>1</td>\n",
              "      <td>31</td>\n",
              "      <td>2.5</td>\n",
              "      <td>1260759144</td>\n",
              "    </tr>\n",
              "    <tr>\n",
              "      <th>1</th>\n",
              "      <td>1</td>\n",
              "      <td>1029</td>\n",
              "      <td>3.0</td>\n",
              "      <td>1260759179</td>\n",
              "    </tr>\n",
              "    <tr>\n",
              "      <th>2</th>\n",
              "      <td>1</td>\n",
              "      <td>1061</td>\n",
              "      <td>3.0</td>\n",
              "      <td>1260759182</td>\n",
              "    </tr>\n",
              "    <tr>\n",
              "      <th>3</th>\n",
              "      <td>1</td>\n",
              "      <td>1129</td>\n",
              "      <td>2.0</td>\n",
              "      <td>1260759185</td>\n",
              "    </tr>\n",
              "    <tr>\n",
              "      <th>4</th>\n",
              "      <td>1</td>\n",
              "      <td>1172</td>\n",
              "      <td>4.0</td>\n",
              "      <td>1260759205</td>\n",
              "    </tr>\n",
              "  </tbody>\n",
              "</table>\n",
              "</div>"
            ],
            "text/plain": [
              "   userId  movieId  rating   timestamp\n",
              "0       1       31     2.5  1260759144\n",
              "1       1     1029     3.0  1260759179\n",
              "2       1     1061     3.0  1260759182\n",
              "3       1     1129     2.0  1260759185\n",
              "4       1     1172     4.0  1260759205"
            ]
          },
          "metadata": {
            "tags": []
          },
          "execution_count": 10
        }
      ]
    },
    {
      "cell_type": "markdown",
      "metadata": {
        "id": "iG4QwEMnUyiJ"
      },
      "source": [
        "### Assumptions\n",
        "\n",
        "##### 1) Both datasets do not have any null values. \n",
        "##### 2) At present, we do not need to column 'timestamp' from 'ratings.csv'. We can drop this column.\n",
        "##### 3) 'moveiId' is common in both datasets. We can merge the two based on this column.\n",
        "##### "
      ]
    },
    {
      "cell_type": "code",
      "metadata": {
        "id": "QuB7pc1hUyiJ"
      },
      "source": [
        "df_ratings.drop('timestamp', axis=1, inplace=True)"
      ],
      "execution_count": 11,
      "outputs": []
    },
    {
      "cell_type": "code",
      "metadata": {
        "id": "yJ_WDQyHUyiK"
      },
      "source": [
        "df = pd.merge(df_movies, df_ratings, on='movieId')"
      ],
      "execution_count": 12,
      "outputs": []
    },
    {
      "cell_type": "code",
      "metadata": {
        "id": "50kGFIbIUyiK",
        "colab": {
          "base_uri": "https://localhost:8080/",
          "height": 402
        },
        "outputId": "13a03f7f-3a3a-4a21-ab9f-21b2b3966921"
      },
      "source": [
        "df"
      ],
      "execution_count": 13,
      "outputs": [
        {
          "output_type": "execute_result",
          "data": {
            "text/html": [
              "<div>\n",
              "<style scoped>\n",
              "    .dataframe tbody tr th:only-of-type {\n",
              "        vertical-align: middle;\n",
              "    }\n",
              "\n",
              "    .dataframe tbody tr th {\n",
              "        vertical-align: top;\n",
              "    }\n",
              "\n",
              "    .dataframe thead th {\n",
              "        text-align: right;\n",
              "    }\n",
              "</style>\n",
              "<table border=\"1\" class=\"dataframe\">\n",
              "  <thead>\n",
              "    <tr style=\"text-align: right;\">\n",
              "      <th></th>\n",
              "      <th>movieId</th>\n",
              "      <th>title</th>\n",
              "      <th>genres</th>\n",
              "      <th>userId</th>\n",
              "      <th>rating</th>\n",
              "    </tr>\n",
              "  </thead>\n",
              "  <tbody>\n",
              "    <tr>\n",
              "      <th>0</th>\n",
              "      <td>1</td>\n",
              "      <td>Toy Story (1995)</td>\n",
              "      <td>Adventure|Animation|Children|Comedy|Fantasy</td>\n",
              "      <td>7</td>\n",
              "      <td>3.0</td>\n",
              "    </tr>\n",
              "    <tr>\n",
              "      <th>1</th>\n",
              "      <td>1</td>\n",
              "      <td>Toy Story (1995)</td>\n",
              "      <td>Adventure|Animation|Children|Comedy|Fantasy</td>\n",
              "      <td>9</td>\n",
              "      <td>4.0</td>\n",
              "    </tr>\n",
              "    <tr>\n",
              "      <th>2</th>\n",
              "      <td>1</td>\n",
              "      <td>Toy Story (1995)</td>\n",
              "      <td>Adventure|Animation|Children|Comedy|Fantasy</td>\n",
              "      <td>13</td>\n",
              "      <td>5.0</td>\n",
              "    </tr>\n",
              "    <tr>\n",
              "      <th>3</th>\n",
              "      <td>1</td>\n",
              "      <td>Toy Story (1995)</td>\n",
              "      <td>Adventure|Animation|Children|Comedy|Fantasy</td>\n",
              "      <td>15</td>\n",
              "      <td>2.0</td>\n",
              "    </tr>\n",
              "    <tr>\n",
              "      <th>4</th>\n",
              "      <td>1</td>\n",
              "      <td>Toy Story (1995)</td>\n",
              "      <td>Adventure|Animation|Children|Comedy|Fantasy</td>\n",
              "      <td>19</td>\n",
              "      <td>3.0</td>\n",
              "    </tr>\n",
              "    <tr>\n",
              "      <th>...</th>\n",
              "      <td>...</td>\n",
              "      <td>...</td>\n",
              "      <td>...</td>\n",
              "      <td>...</td>\n",
              "      <td>...</td>\n",
              "    </tr>\n",
              "    <tr>\n",
              "      <th>99999</th>\n",
              "      <td>161944</td>\n",
              "      <td>The Last Brickmaker in America (2001)</td>\n",
              "      <td>Drama</td>\n",
              "      <td>287</td>\n",
              "      <td>5.0</td>\n",
              "    </tr>\n",
              "    <tr>\n",
              "      <th>100000</th>\n",
              "      <td>162376</td>\n",
              "      <td>Stranger Things</td>\n",
              "      <td>Drama</td>\n",
              "      <td>73</td>\n",
              "      <td>4.5</td>\n",
              "    </tr>\n",
              "    <tr>\n",
              "      <th>100001</th>\n",
              "      <td>162542</td>\n",
              "      <td>Rustom (2016)</td>\n",
              "      <td>Romance|Thriller</td>\n",
              "      <td>611</td>\n",
              "      <td>5.0</td>\n",
              "    </tr>\n",
              "    <tr>\n",
              "      <th>100002</th>\n",
              "      <td>162672</td>\n",
              "      <td>Mohenjo Daro (2016)</td>\n",
              "      <td>Adventure|Drama|Romance</td>\n",
              "      <td>611</td>\n",
              "      <td>3.0</td>\n",
              "    </tr>\n",
              "    <tr>\n",
              "      <th>100003</th>\n",
              "      <td>163949</td>\n",
              "      <td>The Beatles: Eight Days a Week - The Touring Y...</td>\n",
              "      <td>Documentary</td>\n",
              "      <td>547</td>\n",
              "      <td>5.0</td>\n",
              "    </tr>\n",
              "  </tbody>\n",
              "</table>\n",
              "<p>100004 rows × 5 columns</p>\n",
              "</div>"
            ],
            "text/plain": [
              "        movieId  ... rating\n",
              "0             1  ...    3.0\n",
              "1             1  ...    4.0\n",
              "2             1  ...    5.0\n",
              "3             1  ...    2.0\n",
              "4             1  ...    3.0\n",
              "...         ...  ...    ...\n",
              "99999    161944  ...    5.0\n",
              "100000   162376  ...    4.5\n",
              "100001   162542  ...    5.0\n",
              "100002   162672  ...    3.0\n",
              "100003   163949  ...    5.0\n",
              "\n",
              "[100004 rows x 5 columns]"
            ]
          },
          "metadata": {
            "tags": []
          },
          "execution_count": 13
        }
      ]
    },
    {
      "cell_type": "markdown",
      "metadata": {
        "id": "ouCAlCkbUyiK"
      },
      "source": [
        "----"
      ]
    },
    {
      "cell_type": "markdown",
      "metadata": {
        "id": "9kawJSmhUyiK"
      },
      "source": [
        "#### We will now create a two new column - average movie rating and the number of users who have rated that movie. With this data, we can create some visuals, and later perform Content Filtering."
      ]
    },
    {
      "cell_type": "code",
      "metadata": {
        "id": "JGOABUagUyiK"
      },
      "source": [
        "# This loop will iterate through each row of 'df_movies'.\n",
        "# We will than capture the ID of each movie.\n",
        "# Using the ID, we will get the mean rating of all movies with the same ID from the new DataFrame 'df', which is a merge of 'df_movies' and 'df_ratings'\n",
        "\n",
        "movie_ratings = []\n",
        "\n",
        "for idx, row in df_movies.iterrows():\n",
        "    value = row['movieId']\n",
        "    rate = df[df['movieId'] == value]['rating'].mean()\n",
        "    count = len(df[df['movieId'] == value])\n",
        "    movie_ratings.append([value, rate, count])"
      ],
      "execution_count": 14,
      "outputs": []
    },
    {
      "cell_type": "code",
      "metadata": {
        "id": "r6L1ok9uUyiL"
      },
      "source": [
        "ratings = pd.DataFrame(movie_ratings, columns=['movieId', 'avg_rating', 'rating_count'])"
      ],
      "execution_count": 22,
      "outputs": []
    },
    {
      "cell_type": "code",
      "metadata": {
        "id": "5rnu-rwmUyiL"
      },
      "source": [
        "df_mr = ratings.merge(df_movies, on='movieId')"
      ],
      "execution_count": 23,
      "outputs": []
    },
    {
      "cell_type": "code",
      "metadata": {
        "id": "vd1niZx0UyiL",
        "colab": {
          "base_uri": "https://localhost:8080/",
          "height": 195
        },
        "outputId": "327be1c7-0fa7-4984-cf29-8e4c08ee986c"
      },
      "source": [
        "df_mr.head()"
      ],
      "execution_count": 24,
      "outputs": [
        {
          "output_type": "execute_result",
          "data": {
            "text/html": [
              "<div>\n",
              "<style scoped>\n",
              "    .dataframe tbody tr th:only-of-type {\n",
              "        vertical-align: middle;\n",
              "    }\n",
              "\n",
              "    .dataframe tbody tr th {\n",
              "        vertical-align: top;\n",
              "    }\n",
              "\n",
              "    .dataframe thead th {\n",
              "        text-align: right;\n",
              "    }\n",
              "</style>\n",
              "<table border=\"1\" class=\"dataframe\">\n",
              "  <thead>\n",
              "    <tr style=\"text-align: right;\">\n",
              "      <th></th>\n",
              "      <th>movieId</th>\n",
              "      <th>avg_rating</th>\n",
              "      <th>rating_count</th>\n",
              "      <th>title</th>\n",
              "      <th>genres</th>\n",
              "    </tr>\n",
              "  </thead>\n",
              "  <tbody>\n",
              "    <tr>\n",
              "      <th>0</th>\n",
              "      <td>1</td>\n",
              "      <td>3.872470</td>\n",
              "      <td>247</td>\n",
              "      <td>Toy Story (1995)</td>\n",
              "      <td>Adventure|Animation|Children|Comedy|Fantasy</td>\n",
              "    </tr>\n",
              "    <tr>\n",
              "      <th>1</th>\n",
              "      <td>2</td>\n",
              "      <td>3.401869</td>\n",
              "      <td>107</td>\n",
              "      <td>Jumanji (1995)</td>\n",
              "      <td>Adventure|Children|Fantasy</td>\n",
              "    </tr>\n",
              "    <tr>\n",
              "      <th>2</th>\n",
              "      <td>3</td>\n",
              "      <td>3.161017</td>\n",
              "      <td>59</td>\n",
              "      <td>Grumpier Old Men (1995)</td>\n",
              "      <td>Comedy|Romance</td>\n",
              "    </tr>\n",
              "    <tr>\n",
              "      <th>3</th>\n",
              "      <td>4</td>\n",
              "      <td>2.384615</td>\n",
              "      <td>13</td>\n",
              "      <td>Waiting to Exhale (1995)</td>\n",
              "      <td>Comedy|Drama|Romance</td>\n",
              "    </tr>\n",
              "    <tr>\n",
              "      <th>4</th>\n",
              "      <td>5</td>\n",
              "      <td>3.267857</td>\n",
              "      <td>56</td>\n",
              "      <td>Father of the Bride Part II (1995)</td>\n",
              "      <td>Comedy</td>\n",
              "    </tr>\n",
              "  </tbody>\n",
              "</table>\n",
              "</div>"
            ],
            "text/plain": [
              "   movieId  ...                                       genres\n",
              "0        1  ...  Adventure|Animation|Children|Comedy|Fantasy\n",
              "1        2  ...                   Adventure|Children|Fantasy\n",
              "2        3  ...                               Comedy|Romance\n",
              "3        4  ...                         Comedy|Drama|Romance\n",
              "4        5  ...                                       Comedy\n",
              "\n",
              "[5 rows x 5 columns]"
            ]
          },
          "metadata": {
            "tags": []
          },
          "execution_count": 24
        }
      ]
    },
    {
      "cell_type": "code",
      "metadata": {
        "id": "7Cud_avlUyiL",
        "colab": {
          "base_uri": "https://localhost:8080/"
        },
        "outputId": "bb03b1a7-cec0-4323-fe59-89bc3372a9d8"
      },
      "source": [
        "max(df_mr['rating_count'])"
      ],
      "execution_count": 25,
      "outputs": [
        {
          "output_type": "execute_result",
          "data": {
            "text/plain": [
              "341"
            ]
          },
          "metadata": {
            "tags": []
          },
          "execution_count": 25
        }
      ]
    },
    {
      "cell_type": "code",
      "metadata": {
        "colab": {
          "base_uri": "https://localhost:8080/",
          "height": 343
        },
        "id": "le66sxyZUyiM",
        "outputId": "4ba43035-c9f6-4ebd-c7ea-1c927ac48b13"
      },
      "source": [
        "df_mr.sort_values('rating_count', ascending=False).head(10)"
      ],
      "execution_count": 19,
      "outputs": [
        {
          "output_type": "execute_result",
          "data": {
            "text/html": [
              "<div>\n",
              "<style scoped>\n",
              "    .dataframe tbody tr th:only-of-type {\n",
              "        vertical-align: middle;\n",
              "    }\n",
              "\n",
              "    .dataframe tbody tr th {\n",
              "        vertical-align: top;\n",
              "    }\n",
              "\n",
              "    .dataframe thead th {\n",
              "        text-align: right;\n",
              "    }\n",
              "</style>\n",
              "<table border=\"1\" class=\"dataframe\">\n",
              "  <thead>\n",
              "    <tr style=\"text-align: right;\">\n",
              "      <th></th>\n",
              "      <th>movieId</th>\n",
              "      <th>avg_rating</th>\n",
              "      <th>rating_count</th>\n",
              "      <th>title</th>\n",
              "      <th>genres</th>\n",
              "    </tr>\n",
              "  </thead>\n",
              "  <tbody>\n",
              "    <tr>\n",
              "      <th>321</th>\n",
              "      <td>356</td>\n",
              "      <td>4.054252</td>\n",
              "      <td>341</td>\n",
              "      <td>Forrest Gump (1994)</td>\n",
              "      <td>Comedy|Drama|Romance|War</td>\n",
              "    </tr>\n",
              "    <tr>\n",
              "      <th>266</th>\n",
              "      <td>296</td>\n",
              "      <td>4.256173</td>\n",
              "      <td>324</td>\n",
              "      <td>Pulp Fiction (1994)</td>\n",
              "      <td>Comedy|Crime|Drama|Thriller</td>\n",
              "    </tr>\n",
              "    <tr>\n",
              "      <th>284</th>\n",
              "      <td>318</td>\n",
              "      <td>4.487138</td>\n",
              "      <td>311</td>\n",
              "      <td>Shawshank Redemption, The (1994)</td>\n",
              "      <td>Crime|Drama</td>\n",
              "    </tr>\n",
              "    <tr>\n",
              "      <th>525</th>\n",
              "      <td>593</td>\n",
              "      <td>4.138158</td>\n",
              "      <td>304</td>\n",
              "      <td>Silence of the Lambs, The (1991)</td>\n",
              "      <td>Crime|Horror|Thriller</td>\n",
              "    </tr>\n",
              "    <tr>\n",
              "      <th>232</th>\n",
              "      <td>260</td>\n",
              "      <td>4.221649</td>\n",
              "      <td>291</td>\n",
              "      <td>Star Wars: Episode IV - A New Hope (1977)</td>\n",
              "      <td>Action|Adventure|Sci-Fi</td>\n",
              "    </tr>\n",
              "    <tr>\n",
              "      <th>427</th>\n",
              "      <td>480</td>\n",
              "      <td>3.706204</td>\n",
              "      <td>274</td>\n",
              "      <td>Jurassic Park (1993)</td>\n",
              "      <td>Action|Adventure|Sci-Fi|Thriller</td>\n",
              "    </tr>\n",
              "    <tr>\n",
              "      <th>2062</th>\n",
              "      <td>2571</td>\n",
              "      <td>4.183398</td>\n",
              "      <td>259</td>\n",
              "      <td>Matrix, The (1999)</td>\n",
              "      <td>Action|Sci-Fi|Thriller</td>\n",
              "    </tr>\n",
              "    <tr>\n",
              "      <th>0</th>\n",
              "      <td>1</td>\n",
              "      <td>3.872470</td>\n",
              "      <td>247</td>\n",
              "      <td>Toy Story (1995)</td>\n",
              "      <td>Adventure|Animation|Children|Comedy|Fantasy</td>\n",
              "    </tr>\n",
              "    <tr>\n",
              "      <th>472</th>\n",
              "      <td>527</td>\n",
              "      <td>4.303279</td>\n",
              "      <td>244</td>\n",
              "      <td>Schindler's List (1993)</td>\n",
              "      <td>Drama|War</td>\n",
              "    </tr>\n",
              "    <tr>\n",
              "      <th>522</th>\n",
              "      <td>589</td>\n",
              "      <td>4.006329</td>\n",
              "      <td>237</td>\n",
              "      <td>Terminator 2: Judgment Day (1991)</td>\n",
              "      <td>Action|Sci-Fi</td>\n",
              "    </tr>\n",
              "  </tbody>\n",
              "</table>\n",
              "</div>"
            ],
            "text/plain": [
              "      movieId  ...                                       genres\n",
              "321       356  ...                     Comedy|Drama|Romance|War\n",
              "266       296  ...                  Comedy|Crime|Drama|Thriller\n",
              "284       318  ...                                  Crime|Drama\n",
              "525       593  ...                        Crime|Horror|Thriller\n",
              "232       260  ...                      Action|Adventure|Sci-Fi\n",
              "427       480  ...             Action|Adventure|Sci-Fi|Thriller\n",
              "2062     2571  ...                       Action|Sci-Fi|Thriller\n",
              "0           1  ...  Adventure|Animation|Children|Comedy|Fantasy\n",
              "472       527  ...                                    Drama|War\n",
              "522       589  ...                                Action|Sci-Fi\n",
              "\n",
              "[10 rows x 5 columns]"
            ]
          },
          "metadata": {
            "tags": []
          },
          "execution_count": 19
        }
      ]
    },
    {
      "cell_type": "code",
      "metadata": {
        "id": "JJbKn7k8UyiM"
      },
      "source": [
        "rating = df_mr.sort_values('rating_count', ascending=False).head(10)"
      ],
      "execution_count": 26,
      "outputs": []
    },
    {
      "cell_type": "code",
      "metadata": {
        "colab": {
          "base_uri": "https://localhost:8080/",
          "height": 414
        },
        "id": "i1wQjO-uUyiM",
        "outputId": "ba3c664b-7c05-439e-dca3-abcbebf07ef5"
      },
      "source": [
        "plt.figure(figsize=(10,6))\n",
        "sns.barplot(data=rating, y='title', x='rating_count')\n",
        "plt.title('Top 10 Highest Rating Count Movies', fontsize=20)\n",
        "plt.xlabel('Rating Count', fontsize=15)\n",
        "plt.ylabel('Title', fontsize=15)\n",
        "plt.show()"
      ],
      "execution_count": 27,
      "outputs": [
        {
          "output_type": "display_data",
          "data": {
            "image/png": "[encoded data removed]",
            "text/plain": [
              "<Figure size 720x432 with 1 Axes>"
            ]
          },
          "metadata": {
            "tags": [],
            "needs_background": "light"
          }
        }
      ]
    },
    {
      "cell_type": "markdown",
      "metadata": {
        "id": "FFEXSP4QUyiM"
      },
      "source": [
        "---"
      ]
    },
    {
      "cell_type": "markdown",
      "metadata": {
        "id": "LcZh7CEQUyiM"
      },
      "source": [
        "#### We will now find out the most popular genres"
      ]
    },
    {
      "cell_type": "code",
      "metadata": {
        "id": "FsI5JtADUyiN"
      },
      "source": [
        "# We will create a list of all the words mentioned under 'genres'\n",
        "\n",
        "items = []\n",
        "\n",
        "for idx, row in df_movies.iterrows():\n",
        "    words = row['genres'].split('|')\n",
        "    items.extend(words)"
      ],
      "execution_count": 28,
      "outputs": []
    },
    {
      "cell_type": "code",
      "metadata": {
        "colab": {
          "base_uri": "https://localhost:8080/"
        },
        "id": "bAtK0UEwUyiN",
        "outputId": "12ab0f30-04b6-4604-cc02-faef42da76d3"
      },
      "source": [
        "# We will extract all the unique names from the list of all words from genres.\n",
        "\n",
        "genres = np.unique(np.array(items))\n",
        "genres"
      ],
      "execution_count": 29,
      "outputs": [
        {
          "output_type": "execute_result",
          "data": {
            "text/plain": [
              "array(['(no genres listed)', 'Action', 'Adventure', 'Animation',\n",
              "       'Children', 'Comedy', 'Crime', 'Documentary', 'Drama', 'Fantasy',\n",
              "       'Film-Noir', 'Horror', 'IMAX', 'Musical', 'Mystery', 'Romance',\n",
              "       'Sci-Fi', 'Thriller', 'War', 'Western'], dtype='<U18')"
            ]
          },
          "metadata": {
            "tags": []
          },
          "execution_count": 29
        }
      ]
    },
    {
      "cell_type": "code",
      "metadata": {
        "id": "NBAgwI0aUyiN"
      },
      "source": [
        "# We will create a DataFrame from the unique list of genres, and set all their values to 0.\n",
        "\n",
        "df_genres = pd.get_dummies(genres)\n",
        "\n",
        "for col in df_genres.columns:\n",
        "    df_genres[col].values[:] = 0"
      ],
      "execution_count": 30,
      "outputs": []
    },
    {
      "cell_type": "code",
      "metadata": {
        "id": "Ymhd1uGiUyiN",
        "colab": {
          "base_uri": "https://localhost:8080/",
          "height": 400
        },
        "outputId": "314eb606-bba7-48ba-a9f7-e5400f5ec558"
      },
      "source": [
        "# Each genre has been created into a new column.\n",
        "\n",
        "df_movies = df_movies.join(df_genres)\n",
        "df_movies.head()"
      ],
      "execution_count": 32,
      "outputs": [
        {
          "output_type": "execute_result",
          "data": {
            "text/html": [
              "<div>\n",
              "<style scoped>\n",
              "    .dataframe tbody tr th:only-of-type {\n",
              "        vertical-align: middle;\n",
              "    }\n",
              "\n",
              "    .dataframe tbody tr th {\n",
              "        vertical-align: top;\n",
              "    }\n",
              "\n",
              "    .dataframe thead th {\n",
              "        text-align: right;\n",
              "    }\n",
              "</style>\n",
              "<table border=\"1\" class=\"dataframe\">\n",
              "  <thead>\n",
              "    <tr style=\"text-align: right;\">\n",
              "      <th></th>\n",
              "      <th>movieId</th>\n",
              "      <th>title</th>\n",
              "      <th>genres</th>\n",
              "      <th>(no genres listed)</th>\n",
              "      <th>Action</th>\n",
              "      <th>Adventure</th>\n",
              "      <th>Animation</th>\n",
              "      <th>Children</th>\n",
              "      <th>Comedy</th>\n",
              "      <th>Crime</th>\n",
              "      <th>Documentary</th>\n",
              "      <th>Drama</th>\n",
              "      <th>Fantasy</th>\n",
              "      <th>Film-Noir</th>\n",
              "      <th>Horror</th>\n",
              "      <th>IMAX</th>\n",
              "      <th>Musical</th>\n",
              "      <th>Mystery</th>\n",
              "      <th>Romance</th>\n",
              "      <th>Sci-Fi</th>\n",
              "      <th>Thriller</th>\n",
              "      <th>War</th>\n",
              "      <th>Western</th>\n",
              "    </tr>\n",
              "  </thead>\n",
              "  <tbody>\n",
              "    <tr>\n",
              "      <th>0</th>\n",
              "      <td>1</td>\n",
              "      <td>Toy Story (1995)</td>\n",
              "      <td>Adventure|Animation|Children|Comedy|Fantasy</td>\n",
              "      <td>0.0</td>\n",
              "      <td>0.0</td>\n",
              "      <td>0.0</td>\n",
              "      <td>0.0</td>\n",
              "      <td>0.0</td>\n",
              "      <td>0.0</td>\n",
              "      <td>0.0</td>\n",
              "      <td>0.0</td>\n",
              "      <td>0.0</td>\n",
              "      <td>0.0</td>\n",
              "      <td>0.0</td>\n",
              "      <td>0.0</td>\n",
              "      <td>0.0</td>\n",
              "      <td>0.0</td>\n",
              "      <td>0.0</td>\n",
              "      <td>0.0</td>\n",
              "      <td>0.0</td>\n",
              "      <td>0.0</td>\n",
              "      <td>0.0</td>\n",
              "      <td>0.0</td>\n",
              "    </tr>\n",
              "    <tr>\n",
              "      <th>1</th>\n",
              "      <td>2</td>\n",
              "      <td>Jumanji (1995)</td>\n",
              "      <td>Adventure|Children|Fantasy</td>\n",
              "      <td>0.0</td>\n",
              "      <td>0.0</td>\n",
              "      <td>0.0</td>\n",
              "      <td>0.0</td>\n",
              "      <td>0.0</td>\n",
              "      <td>0.0</td>\n",
              "      <td>0.0</td>\n",
              "      <td>0.0</td>\n",
              "      <td>0.0</td>\n",
              "      <td>0.0</td>\n",
              "      <td>0.0</td>\n",
              "      <td>0.0</td>\n",
              "      <td>0.0</td>\n",
              "      <td>0.0</td>\n",
              "      <td>0.0</td>\n",
              "      <td>0.0</td>\n",
              "      <td>0.0</td>\n",
              "      <td>0.0</td>\n",
              "      <td>0.0</td>\n",
              "      <td>0.0</td>\n",
              "    </tr>\n",
              "    <tr>\n",
              "      <th>2</th>\n",
              "      <td>3</td>\n",
              "      <td>Grumpier Old Men (1995)</td>\n",
              "      <td>Comedy|Romance</td>\n",
              "      <td>0.0</td>\n",
              "      <td>0.0</td>\n",
              "      <td>0.0</td>\n",
              "      <td>0.0</td>\n",
              "      <td>0.0</td>\n",
              "      <td>0.0</td>\n",
              "      <td>0.0</td>\n",
              "      <td>0.0</td>\n",
              "      <td>0.0</td>\n",
              "      <td>0.0</td>\n",
              "      <td>0.0</td>\n",
              "      <td>0.0</td>\n",
              "      <td>0.0</td>\n",
              "      <td>0.0</td>\n",
              "      <td>0.0</td>\n",
              "      <td>0.0</td>\n",
              "      <td>0.0</td>\n",
              "      <td>0.0</td>\n",
              "      <td>0.0</td>\n",
              "      <td>0.0</td>\n",
              "    </tr>\n",
              "    <tr>\n",
              "      <th>3</th>\n",
              "      <td>4</td>\n",
              "      <td>Waiting to Exhale (1995)</td>\n",
              "      <td>Comedy|Drama|Romance</td>\n",
              "      <td>0.0</td>\n",
              "      <td>0.0</td>\n",
              "      <td>0.0</td>\n",
              "      <td>0.0</td>\n",
              "      <td>0.0</td>\n",
              "      <td>0.0</td>\n",
              "      <td>0.0</td>\n",
              "      <td>0.0</td>\n",
              "      <td>0.0</td>\n",
              "      <td>0.0</td>\n",
              "      <td>0.0</td>\n",
              "      <td>0.0</td>\n",
              "      <td>0.0</td>\n",
              "      <td>0.0</td>\n",
              "      <td>0.0</td>\n",
              "      <td>0.0</td>\n",
              "      <td>0.0</td>\n",
              "      <td>0.0</td>\n",
              "      <td>0.0</td>\n",
              "      <td>0.0</td>\n",
              "    </tr>\n",
              "    <tr>\n",
              "      <th>4</th>\n",
              "      <td>5</td>\n",
              "      <td>Father of the Bride Part II (1995)</td>\n",
              "      <td>Comedy</td>\n",
              "      <td>0.0</td>\n",
              "      <td>0.0</td>\n",
              "      <td>0.0</td>\n",
              "      <td>0.0</td>\n",
              "      <td>0.0</td>\n",
              "      <td>0.0</td>\n",
              "      <td>0.0</td>\n",
              "      <td>0.0</td>\n",
              "      <td>0.0</td>\n",
              "      <td>0.0</td>\n",
              "      <td>0.0</td>\n",
              "      <td>0.0</td>\n",
              "      <td>0.0</td>\n",
              "      <td>0.0</td>\n",
              "      <td>0.0</td>\n",
              "      <td>0.0</td>\n",
              "      <td>0.0</td>\n",
              "      <td>0.0</td>\n",
              "      <td>0.0</td>\n",
              "      <td>0.0</td>\n",
              "    </tr>\n",
              "  </tbody>\n",
              "</table>\n",
              "</div>"
            ],
            "text/plain": [
              "   movieId                               title  ...  War  Western\n",
              "0        1                    Toy Story (1995)  ...  0.0      0.0\n",
              "1        2                      Jumanji (1995)  ...  0.0      0.0\n",
              "2        3             Grumpier Old Men (1995)  ...  0.0      0.0\n",
              "3        4            Waiting to Exhale (1995)  ...  0.0      0.0\n",
              "4        5  Father of the Bride Part II (1995)  ...  0.0      0.0\n",
              "\n",
              "[5 rows x 23 columns]"
            ]
          },
          "metadata": {
            "tags": []
          },
          "execution_count": 32
        }
      ]
    },
    {
      "cell_type": "code",
      "metadata": {
        "id": "qCehFcXkUyiN"
      },
      "source": [
        "for idx, row in df_movies.iterrows():\n",
        "    items = row['genres'].split('|')\n",
        "    for col in items:\n",
        "        df_movies[col][idx] = 1"
      ],
      "execution_count": 33,
      "outputs": []
    },
    {
      "cell_type": "code",
      "metadata": {
        "id": "_sKqbwAFUyiO"
      },
      "source": [
        "# Depending on the genre(s) that a movie belongs to, accordingly that genre-column will be set to a value of 1\n",
        "\n",
        "df_movies.head()"
      ],
      "execution_count": null,
      "outputs": []
    },
    {
      "cell_type": "code",
      "metadata": {
        "id": "vTyTFQZ2UyiO"
      },
      "source": [
        "# We will now add up the count of each genre where the value is 1\n",
        "\n",
        "genre_dict = {}\n",
        "i = 0\n",
        "\n",
        "for each in genres:\n",
        "    count = np.sum(df_movies[each])\n",
        "    genre_dict[i] = [each, count]\n",
        "    i += 1"
      ],
      "execution_count": 34,
      "outputs": []
    },
    {
      "cell_type": "code",
      "metadata": {
        "id": "VZSEyZNzUyiO",
        "colab": {
          "base_uri": "https://localhost:8080/"
        },
        "outputId": "616b2297-892a-4f18-fa41-f4303a15f355"
      },
      "source": [
        "genre_dict"
      ],
      "execution_count": 35,
      "outputs": [
        {
          "output_type": "execute_result",
          "data": {
            "text/plain": [
              "{0: ['(no genres listed)', 18.0],\n",
              " 1: ['Action', 1545.0],\n",
              " 2: ['Adventure', 1117.0],\n",
              " 3: ['Animation', 447.0],\n",
              " 4: ['Children', 583.0],\n",
              " 5: ['Comedy', 3315.0],\n",
              " 6: ['Crime', 1100.0],\n",
              " 7: ['Documentary', 495.0],\n",
              " 8: ['Drama', 4365.0],\n",
              " 9: ['Fantasy', 654.0],\n",
              " 10: ['Film-Noir', 133.0],\n",
              " 11: ['Horror', 877.0],\n",
              " 12: ['IMAX', 153.0],\n",
              " 13: ['Musical', 394.0],\n",
              " 14: ['Mystery', 543.0],\n",
              " 15: ['Romance', 1545.0],\n",
              " 16: ['Sci-Fi', 792.0],\n",
              " 17: ['Thriller', 1729.0],\n",
              " 18: ['War', 367.0],\n",
              " 19: ['Western', 168.0]}"
            ]
          },
          "metadata": {
            "tags": []
          },
          "execution_count": 35
        }
      ]
    },
    {
      "cell_type": "code",
      "metadata": {
        "id": "L123e_lhUyiO"
      },
      "source": [
        "df_gr = pd.DataFrame.from_dict(genre_dict, orient='index', columns=['Genres', 'Count'])"
      ],
      "execution_count": 36,
      "outputs": []
    },
    {
      "cell_type": "code",
      "metadata": {
        "id": "27kAPxhzUyiO",
        "colab": {
          "base_uri": "https://localhost:8080/",
          "height": 195
        },
        "outputId": "0cbb8534-29d5-418e-9034-17dce0302027"
      },
      "source": [
        "df_gr.head()"
      ],
      "execution_count": 37,
      "outputs": [
        {
          "output_type": "execute_result",
          "data": {
            "text/html": [
              "<div>\n",
              "<style scoped>\n",
              "    .dataframe tbody tr th:only-of-type {\n",
              "        vertical-align: middle;\n",
              "    }\n",
              "\n",
              "    .dataframe tbody tr th {\n",
              "        vertical-align: top;\n",
              "    }\n",
              "\n",
              "    .dataframe thead th {\n",
              "        text-align: right;\n",
              "    }\n",
              "</style>\n",
              "<table border=\"1\" class=\"dataframe\">\n",
              "  <thead>\n",
              "    <tr style=\"text-align: right;\">\n",
              "      <th></th>\n",
              "      <th>Genres</th>\n",
              "      <th>Count</th>\n",
              "    </tr>\n",
              "  </thead>\n",
              "  <tbody>\n",
              "    <tr>\n",
              "      <th>0</th>\n",
              "      <td>(no genres listed)</td>\n",
              "      <td>18.0</td>\n",
              "    </tr>\n",
              "    <tr>\n",
              "      <th>1</th>\n",
              "      <td>Action</td>\n",
              "      <td>1545.0</td>\n",
              "    </tr>\n",
              "    <tr>\n",
              "      <th>2</th>\n",
              "      <td>Adventure</td>\n",
              "      <td>1117.0</td>\n",
              "    </tr>\n",
              "    <tr>\n",
              "      <th>3</th>\n",
              "      <td>Animation</td>\n",
              "      <td>447.0</td>\n",
              "    </tr>\n",
              "    <tr>\n",
              "      <th>4</th>\n",
              "      <td>Children</td>\n",
              "      <td>583.0</td>\n",
              "    </tr>\n",
              "  </tbody>\n",
              "</table>\n",
              "</div>"
            ],
            "text/plain": [
              "               Genres   Count\n",
              "0  (no genres listed)    18.0\n",
              "1              Action  1545.0\n",
              "2           Adventure  1117.0\n",
              "3           Animation   447.0\n",
              "4            Children   583.0"
            ]
          },
          "metadata": {
            "tags": []
          },
          "execution_count": 37
        }
      ]
    },
    {
      "cell_type": "code",
      "metadata": {
        "id": "lgiP_meKUyiP"
      },
      "source": [
        "df_gr = df_gr.sort_values('Count', ascending=False)"
      ],
      "execution_count": 38,
      "outputs": []
    },
    {
      "cell_type": "code",
      "metadata": {
        "id": "hua9aMJkUyiP"
      },
      "source": [
        "plt.figure(figsize=(12,8))\n",
        "sns.barplot(data=df_gr, y='Genres', x='Count')\n",
        "plt.title('Top 10 Most Popular Genres', fontsize=20)\n",
        "plt.xlabel('Count', fontsize=15)\n",
        "plt.ylabel('Genres', fontsize=15)\n",
        "plt.show()"
      ],
      "execution_count": null,
      "outputs": []
    },
    {
      "cell_type": "markdown",
      "metadata": {
        "id": "Kp7mX51vUyiP"
      },
      "source": [
        "#### We can see that Drama and Comedy are the most watched Genres"
      ]
    },
    {
      "cell_type": "markdown",
      "metadata": {
        "id": "FQ5obam1UyiP"
      },
      "source": [
        "---"
      ]
    },
    {
      "cell_type": "markdown",
      "metadata": {
        "id": "UtWNozp-UyiP"
      },
      "source": [
        "### We will now create multiple filtering systems. The results of each system will be collected and the duplicate movies will be removed."
      ]
    },
    {
      "cell_type": "code",
      "metadata": {
        "id": "AvWOz0G_UyiP"
      },
      "source": [
        "# Function to return DataFrame of movies above a particular rating\n",
        "\n",
        "def select_rating(item_id, rating):\n",
        "    movie = df_mr[df_mr['movieId'] == item_id]\n",
        "    return df_mr[df_mr['avg_rating'] >= rating].append(movie, ignore_index=True)"
      ],
      "execution_count": 39,
      "outputs": []
    },
    {
      "cell_type": "markdown",
      "metadata": {
        "id": "E1gpB_mfUyiQ"
      },
      "source": [
        "### Content Based Filtering\n",
        "\n",
        "#### Steps\n",
        "- Import modules - <br>\n",
        "> from sklearn.feature_extraction.text import TfidfVectorizer, CountVectorizer<br>\n",
        "> from sklearn.metrics.pairwise import linear_kernel, cosine_similarity<br>\n",
        "- Create an object of the Vectorizer module, and 'fit_transform' the column we want to create the filter on (in this case, it would be 'generes')</li>\n",
        "- We then need to pass these values to the 'cosine_similarties' or 'linear_kernel' module\n",
        "- <b><u>IMPORTANT</b></u> - Next, we iterate through the DataFrame and from the previous step, we need to match the cosine score of each movie to all the movies in the database\n",
        "- A function is then created to get the name and rating of a selected movie\n",
        "- Lastly, another function is created to get the recommendation based off the selected movie"
      ]
    },
    {
      "cell_type": "code",
      "metadata": {
        "id": "kqP6BqibUyiQ"
      },
      "source": [
        "from sklearn.feature_extraction.text import TfidfVectorizer, CountVectorizer\n",
        "from sklearn.metrics.pairwise import linear_kernel, cosine_similarity"
      ],
      "execution_count": 40,
      "outputs": []
    },
    {
      "cell_type": "code",
      "metadata": {
        "id": "k4pIEzitUyiQ"
      },
      "source": [
        "def content_based(df_recommend, rating):\n",
        "    tfid = TfidfVectorizer(stop_words='english', ngram_range=(1,3), analyzer='word')\n",
        "    tfid_matrix = tfid.fit_transform(df_recommend['genres'])\n",
        "    \n",
        "    cos_sim = linear_kernel(tfid_matrix, tfid_matrix)\n",
        "    \n",
        "    results = {}\n",
        "    \n",
        "    for idx, row in df_recommend.iterrows():    # Iterate through the rows\n",
        "        similar_indices = cos_sim[idx].argsort()[:-100:-1]\n",
        "        similar_items = [(cos_sim[idx][i], df_recommend['movieId'][i], df_recommend['avg_rating'][i]) for i in similar_indices]\n",
        "        results[row['movieId']] = sorted(similar_items[1:], reverse=True)\n",
        "        \n",
        "    return results"
      ],
      "execution_count": 41,
      "outputs": []
    },
    {
      "cell_type": "code",
      "metadata": {
        "id": "irq4qHmqUyiQ"
      },
      "source": [
        "def item(df_item, id):\n",
        "    name = df_item.loc[df_item['movieId'] == id]['title'].tolist()[0]\n",
        "    rating = df_item.loc[df_item['movieId'] == id]['avg_rating'].tolist()[0]\n",
        "    return name, rating"
      ],
      "execution_count": 42,
      "outputs": []
    },
    {
      "cell_type": "code",
      "metadata": {
        "id": "dkvjVGAXUyiR"
      },
      "source": [
        "def recommend(item_id, rating, num):\n",
        "    df_recommend = select_rating(item_id, rating)\n",
        "    df_recommend = df_recommend.reset_index(drop=True)\n",
        "    # df_recommend = df_mr\n",
        "    results = content_based(df_recommend, rating)\n",
        "    recs = results[item_id][:num]\n",
        "    # recs = results[item_id]\n",
        "    movies = []\n",
        "    \n",
        "    selected_movie = item(df_recommend, item_id)[0]\n",
        "    print(\"Movie Watched : \", selected_movie)\n",
        "    print()\n",
        "    for rec in recs:\n",
        "        # print(\"Recommended : \" + item(df_recommend, rec[1])[0])\n",
        "        # print(\"Rating : \", item(df_recommend, rec[1])[1])\n",
        "        # print(\"(Score : \" + str(rec[0]) + \")\")\n",
        "        movies.append([item(df_recommend, rec[1])[0], item(df_recommend, rec[1])[1]])\n",
        "        # print()\n",
        "    movies = sorted(movies, key = lambda x : x[1], reverse=True)\n",
        "    print(\"Content Based Done!!!\")\n",
        "    return movies, selected_movie"
      ],
      "execution_count": 43,
      "outputs": []
    },
    {
      "cell_type": "code",
      "metadata": {
        "id": "EYbjxjqoUyiR",
        "colab": {
          "base_uri": "https://localhost:8080/"
        },
        "outputId": "d8d32382-074f-4af5-faaa-b3139aab186e"
      },
      "source": [
        "movies_list, sel_mov = recommend(200, 4, 10)"
      ],
      "execution_count": 44,
      "outputs": [
        {
          "output_type": "stream",
          "text": [
            "Movie Watched :  Tie That Binds, The (1995)\n",
            "\n",
            "Content Based Done!!!\n"
          ],
          "name": "stdout"
        }
      ]
    },
    {
      "cell_type": "code",
      "metadata": {
        "id": "t24cTfgdUyiR",
        "colab": {
          "base_uri": "https://localhost:8080/",
          "height": 35
        },
        "outputId": "3762272d-3956-46a3-a06f-eb38890603f5"
      },
      "source": [
        "sel_mov"
      ],
      "execution_count": 45,
      "outputs": [
        {
          "output_type": "execute_result",
          "data": {
            "application/vnd.google.colaboratory.intrinsic+json": {
              "type": "string"
            },
            "text/plain": [
              "'Tie That Binds, The (1995)'"
            ]
          },
          "metadata": {
            "tags": []
          },
          "execution_count": 45
        }
      ]
    },
    {
      "cell_type": "code",
      "metadata": {
        "id": "sU8_NGERUyiS",
        "colab": {
          "base_uri": "https://localhost:8080/"
        },
        "outputId": "ff61e1c3-e9c1-4717-a180-d66d430e193c"
      },
      "source": [
        "movies_list"
      ],
      "execution_count": 46,
      "outputs": [
        {
          "output_type": "execute_result",
          "data": {
            "text/plain": [
              "[['Borgman (2013)', 5.0],\n",
              " ['Stay (2005)', 4.5],\n",
              " ['Eye of the Needle (1981)', 4.5],\n",
              " ['Red Rock West (1992)', 4.138888888888889],\n",
              " ['Ipcress File, The (1965)', 4.0],\n",
              " ['Sabotage (1936)', 4.0],\n",
              " ['Tie That Binds, The (1995)', 4.0],\n",
              " ['Out of the Furnace (Dust to Dust) (Low Dweller, The) (2013)', 4.0],\n",
              " ['Only God Forgives (2013)', 4.0],\n",
              " ['Impossible, The (Imposible, Lo) (2012)', 4.0]]"
            ]
          },
          "metadata": {
            "tags": []
          },
          "execution_count": 46
        }
      ]
    },
    {
      "cell_type": "code",
      "metadata": {
        "id": "1RBZtolyUyiS",
        "colab": {
          "base_uri": "https://localhost:8080/"
        },
        "outputId": "1ffb811f-4ea3-43e0-b9fc-9438ba4d6028"
      },
      "source": [
        "movies_list, sel_mov = recommend(200, 3, 10)\n",
        "sel_mov\n",
        "movies_list"
      ],
      "execution_count": 47,
      "outputs": [
        {
          "output_type": "stream",
          "text": [
            "Movie Watched :  Tie That Binds, The (1995)\n",
            "\n",
            "Content Based Done!!!\n"
          ],
          "name": "stdout"
        },
        {
          "output_type": "execute_result",
          "data": {
            "text/plain": [
              "[['Borgman (2013)', 5.0],\n",
              " ['Best Offer, The (Migliore offerta, La) (2013)', 3.875],\n",
              " ['Spotlight (2015)', 3.8333333333333335],\n",
              " ['Guest, The (2014)', 3.8333333333333335],\n",
              " ['Stonehearst Asylum (2014)', 3.75],\n",
              " ['Blue Ruin (2013)', 3.75],\n",
              " ['10 Cloverfield Lane (2016)', 3.7],\n",
              " ['Hush (2016)', 3.5],\n",
              " ['Company You Keep, The (2012)', 3.5],\n",
              " ['Felony (2013)', 3.0]]"
            ]
          },
          "metadata": {
            "tags": []
          },
          "execution_count": 47
        }
      ]
    },
    {
      "cell_type": "markdown",
      "metadata": {
        "id": "DltTtcQ4UyiS"
      },
      "source": [
        "---"
      ]
    },
    {
      "cell_type": "markdown",
      "metadata": {
        "id": "RUdSF6mzUyiS"
      },
      "source": [
        "### Collaborative Based Filering - Item Based"
      ]
    },
    {
      "cell_type": "code",
      "metadata": {
        "id": "ms2npP9vUyiS"
      },
      "source": [
        "def item_movie(item_id, name, top, rate):\n",
        "    df_recommend = select_rating(item_id, rate)\n",
        "    df_matrix = df_recommend.pivot_table(index='movieId', columns='title', values='avg_rating')\n",
        "    df_matrix.fillna(0, inplace=True)\n",
        "    \n",
        "    movie_watched = df_matrix[name]\n",
        "    similarity_scores = df_matrix.corrwith(movie_watched)\n",
        "    # print(type(similarity_scores))\n",
        "    top_movies = pd.DataFrame(similarity_scores.sort_values(ascending=False).head(top)[1:]).index.tolist()\n",
        "    print(\"Collaborative Item-Based Done!!!\")\n",
        "    return top_movies"
      ],
      "execution_count": 48,
      "outputs": []
    },
    {
      "cell_type": "markdown",
      "metadata": {
        "id": "pfW0sx77UyiS"
      },
      "source": [
        "item_movie(2, \"Jumanji (1995)\", 10, 3.5)"
      ]
    },
    {
      "cell_type": "markdown",
      "metadata": {
        "id": "Zx-LE-E9UyiT"
      },
      "source": [
        "item_movie(2, \"Jumanji (1995)\", 10, 3)"
      ]
    },
    {
      "cell_type": "markdown",
      "metadata": {
        "id": "OphklL64UyiT"
      },
      "source": [
        "item_movie(2, \"Jumanji (1995)\", 10, 4)"
      ]
    },
    {
      "cell_type": "markdown",
      "metadata": {
        "id": "6o_5L8ojUyiT"
      },
      "source": [
        "---"
      ]
    },
    {
      "cell_type": "markdown",
      "metadata": {
        "id": "2FnYVEK8UyiT"
      },
      "source": [
        "### KNN Filtering"
      ]
    },
    {
      "cell_type": "code",
      "metadata": {
        "id": "D4hZ6cgqUyiT"
      },
      "source": [
        "from scipy.sparse import csr_matrix\n",
        "from sklearn.neighbors import NearestNeighbors"
      ],
      "execution_count": 60,
      "outputs": []
    },
    {
      "cell_type": "markdown",
      "metadata": {
        "id": "IF_bgCV-UyiT"
      },
      "source": [
        "df_matrix = df_mr.pivot_table(values='avg_rating', index='title', columns='movieId')\n",
        "df_matrix.fillna(0, inplace=True)\n",
        "df_csr = csr_matrix(df_matrix)"
      ]
    },
    {
      "cell_type": "code",
      "metadata": {
        "id": "Dum_vbe5UyiU"
      },
      "source": [
        "def knn_movies(id, rate):\n",
        "    df_recommend = select_rating(id, rate)\n",
        "    df_matrix = df_recommend.pivot_table(values='avg_rating', index='title', columns='movieId')\n",
        "    df_matrix.fillna(0, inplace=True)\n",
        "    df_csr = csr_matrix(df_matrix)\n",
        "    movies = []\n",
        "    knn = NearestNeighbors(algorithm='brute', metric='cosine', n_neighbors=20)\n",
        "    knn.fit(df_csr)\n",
        "    df_matrix.iloc[100,:].values.reshape(1, -1)\n",
        "    distance, indices = knn.kneighbors(df_matrix.iloc[100,:].values.reshape(1, -1))\n",
        "    for each in indices:\n",
        "        # print(df_matrix.index[each])\n",
        "        movies.append(df_matrix.index[each])\n",
        "    print(\"KNN Based Done!!!\")\n",
        "    return movies"
      ],
      "execution_count": 61,
      "outputs": []
    },
    {
      "cell_type": "code",
      "metadata": {
        "colab": {
          "base_uri": "https://localhost:8080/"
        },
        "id": "7s-6k072UyiU",
        "outputId": "0fce6cf9-db73-459d-8a46-58b509bca05d"
      },
      "source": [
        "knn_selection = knn_movies(200, 3)"
      ],
      "execution_count": 62,
      "outputs": [
        {
          "output_type": "stream",
          "text": [
            "KNN Based Done!!!\n"
          ],
          "name": "stdout"
        }
      ]
    },
    {
      "cell_type": "code",
      "metadata": {
        "id": "BDGOpzJoUyiU",
        "colab": {
          "base_uri": "https://localhost:8080/"
        },
        "outputId": "837ec3bb-dccd-4993-da19-bdbf63a30467"
      },
      "source": [
        "for each in knn_selection:\n",
        "    for mov in each:\n",
        "        print(mov)"
      ],
      "execution_count": 63,
      "outputs": [
        {
          "output_type": "stream",
          "text": [
            "9 1/2 Weeks (Nine 1/2 Weeks) (1986)\n",
            "Paris Is Burning (1990)\n",
            "Paradise Now (2005)\n",
            "Paradise Lost: The Child Murders at Robin Hood Hills (1996)\n",
            "Parallax View, The (1974)\n",
            "Paragraph 175 (2000)\n",
            "Parenthood (1989)\n",
            "Passion of Mind (2000)\n",
            "Paris, France (1993)\n",
            "Paris, I Love You (Paris, je t'aime) (2006)\n",
            "Paris, Texas (1984)\n",
            "Partly Cloudy (2009)\n",
            "Party, The (1968)\n",
            "Passage to India, A (1984)\n",
            "Passenger 57 (1992)\n",
            "Passenger, The (Professione: reporter) (1975)\n",
            "Passion Fish (1992)\n",
            "Parent Trap, The (1998)\n",
            "Paradise Road (1997)\n",
            "Past, The (Le passé) (2013)\n"
          ],
          "name": "stdout"
        }
      ]
    },
    {
      "cell_type": "markdown",
      "metadata": {
        "id": "1CAUCW8LUyiU"
      },
      "source": [
        "---"
      ]
    },
    {
      "cell_type": "markdown",
      "metadata": {
        "id": "0SpylbSKUyiU"
      },
      "source": [
        "### Function for a Hybrid Recommender System"
      ]
    },
    {
      "cell_type": "code",
      "metadata": {
        "id": "RLzMrFdgUyiV"
      },
      "source": [
        "def hybrid_rec_sys(item_id, rating, items):\n",
        "    all_movies = []\n",
        "   \n",
        "    movies_list, sel_mov = recommend(item_id, rating, items)\n",
        "    item_mov = item_movie(item_id, sel_mov, items, rating)\n",
        "    knn_mov = knn_movies(item_id, rating)\n",
        "    \n",
        "    all_movies = sorted([each[0] for each in movies_list] + item_mov + [mov for knn_each in knn_mov for mov in knn_each])\n",
        "    all_movies = np.unique(all_movies)\n",
        "    mov_rating = []\n",
        "    \n",
        "    for each in all_movies:\n",
        "        value = df_mr[df_mr['title'] == each]['avg_rating']\n",
        "        mov_rating.append([each, round(value.iloc[0],2)])\n",
        "    \n",
        "    recommended_movies = pd.DataFrame(mov_rating, columns=['Title', 'Rating'])\n",
        "    return recommended_movies.sort_values('Rating', ascending=False)"
      ],
      "execution_count": 53,
      "outputs": []
    },
    {
      "cell_type": "code",
      "metadata": {
        "colab": {
          "base_uri": "https://localhost:8080/",
          "height": 0
        },
        "id": "KFvXH7QSUyiV",
        "outputId": "43707b0d-9465-4159-e580-d6f19293be84"
      },
      "source": [
        "top = 15\n",
        "final_movies = hybrid_rec_sys(200, 4, top)\n",
        "final_movies.head(top)\n",
        "# final_movies"
      ],
      "execution_count": 54,
      "outputs": [
        {
          "output_type": "stream",
          "text": [
            "Movie Watched :  Tie That Binds, The (1995)\n",
            "\n",
            "Content Based Done!!!\n",
            "Collaborative Item-Based Done!!!\n",
            "KNN Based Done!!!\n"
          ],
          "name": "stdout"
        },
        {
          "output_type": "execute_result",
          "data": {
            "text/html": [
              "<div>\n",
              "<style scoped>\n",
              "    .dataframe tbody tr th:only-of-type {\n",
              "        vertical-align: middle;\n",
              "    }\n",
              "\n",
              "    .dataframe tbody tr th {\n",
              "        vertical-align: top;\n",
              "    }\n",
              "\n",
              "    .dataframe thead th {\n",
              "        text-align: right;\n",
              "    }\n",
              "</style>\n",
              "<table border=\"1\" class=\"dataframe\">\n",
              "  <thead>\n",
              "    <tr style=\"text-align: right;\">\n",
              "      <th></th>\n",
              "      <th>Title</th>\n",
              "      <th>Rating</th>\n",
              "    </tr>\n",
              "  </thead>\n",
              "  <tbody>\n",
              "    <tr>\n",
              "      <th>0</th>\n",
              "      <td>Amazing Grace (2006)</td>\n",
              "      <td>5.0</td>\n",
              "    </tr>\n",
              "    <tr>\n",
              "      <th>15</th>\n",
              "      <td>Losing Chase (1996)</td>\n",
              "      <td>5.0</td>\n",
              "    </tr>\n",
              "    <tr>\n",
              "      <th>47</th>\n",
              "      <td>Unvanquished, The (Aparajito) (1957)</td>\n",
              "      <td>5.0</td>\n",
              "    </tr>\n",
              "    <tr>\n",
              "      <th>44</th>\n",
              "      <td>State of Siege (État de siège) (1972)</td>\n",
              "      <td>5.0</td>\n",
              "    </tr>\n",
              "    <tr>\n",
              "      <th>43</th>\n",
              "      <td>Secret, The (2006)</td>\n",
              "      <td>5.0</td>\n",
              "    </tr>\n",
              "    <tr>\n",
              "      <th>40</th>\n",
              "      <td>Prisoner of the Mountains (Kavkazsky plennik) ...</td>\n",
              "      <td>5.0</td>\n",
              "    </tr>\n",
              "    <tr>\n",
              "      <th>28</th>\n",
              "      <td>Play House, The (1921)</td>\n",
              "      <td>5.0</td>\n",
              "    </tr>\n",
              "    <tr>\n",
              "      <th>1</th>\n",
              "      <td>Angel Baby (1995)</td>\n",
              "      <td>5.0</td>\n",
              "    </tr>\n",
              "    <tr>\n",
              "      <th>22</th>\n",
              "      <td>Phantom of the Paradise (1974)</td>\n",
              "      <td>5.0</td>\n",
              "    </tr>\n",
              "    <tr>\n",
              "      <th>21</th>\n",
              "      <td>Phantasm II (1988)</td>\n",
              "      <td>5.0</td>\n",
              "    </tr>\n",
              "    <tr>\n",
              "      <th>17</th>\n",
              "      <td>Neighbouring Sounds (O som ao redor) (2012)</td>\n",
              "      <td>5.0</td>\n",
              "    </tr>\n",
              "    <tr>\n",
              "      <th>16</th>\n",
              "      <td>Max Keeble's Big Move (2001)</td>\n",
              "      <td>5.0</td>\n",
              "    </tr>\n",
              "    <tr>\n",
              "      <th>48</th>\n",
              "      <td>Vampyros Lesbos (Vampiras, Las) (1971)</td>\n",
              "      <td>5.0</td>\n",
              "    </tr>\n",
              "    <tr>\n",
              "      <th>7</th>\n",
              "      <td>Designated Mourner, The (1997)</td>\n",
              "      <td>5.0</td>\n",
              "    </tr>\n",
              "    <tr>\n",
              "      <th>8</th>\n",
              "      <td>Even Dwarfs Started Small (Auch Zwerge haben k...</td>\n",
              "      <td>5.0</td>\n",
              "    </tr>\n",
              "  </tbody>\n",
              "</table>\n",
              "</div>"
            ],
            "text/plain": [
              "                                                Title  Rating\n",
              "0                                Amazing Grace (2006)     5.0\n",
              "15                                Losing Chase (1996)     5.0\n",
              "47               Unvanquished, The (Aparajito) (1957)     5.0\n",
              "44              State of Siege (État de siège) (1972)     5.0\n",
              "43                                 Secret, The (2006)     5.0\n",
              "40  Prisoner of the Mountains (Kavkazsky plennik) ...     5.0\n",
              "28                             Play House, The (1921)     5.0\n",
              "1                                   Angel Baby (1995)     5.0\n",
              "22                     Phantom of the Paradise (1974)     5.0\n",
              "21                                 Phantasm II (1988)     5.0\n",
              "17        Neighbouring Sounds (O som ao redor) (2012)     5.0\n",
              "16                       Max Keeble's Big Move (2001)     5.0\n",
              "48             Vampyros Lesbos (Vampiras, Las) (1971)     5.0\n",
              "7                      Designated Mourner, The (1997)     5.0\n",
              "8   Even Dwarfs Started Small (Auch Zwerge haben k...     5.0"
            ]
          },
          "metadata": {
            "tags": []
          },
          "execution_count": 54
        }
      ]
    },
    {
      "cell_type": "code",
      "metadata": {
        "id": "OgH0JouLUyiV",
        "colab": {
          "base_uri": "https://localhost:8080/",
          "height": 0
        },
        "outputId": "5a3b039b-ebbc-47dc-eab2-50cff7c5c531"
      },
      "source": [
        "final_movies = hybrid_rec_sys(20, 4, top)\n",
        "final_movies.head(top)\n",
        "# final_movies"
      ],
      "execution_count": 55,
      "outputs": [
        {
          "output_type": "stream",
          "text": [
            "Movie Watched :  Money Train (1995)\n",
            "\n",
            "Content Based Done!!!\n",
            "Collaborative Item-Based Done!!!\n",
            "KNN Based Done!!!\n"
          ],
          "name": "stdout"
        },
        {
          "output_type": "execute_result",
          "data": {
            "text/html": [
              "<div>\n",
              "<style scoped>\n",
              "    .dataframe tbody tr th:only-of-type {\n",
              "        vertical-align: middle;\n",
              "    }\n",
              "\n",
              "    .dataframe tbody tr th {\n",
              "        vertical-align: top;\n",
              "    }\n",
              "\n",
              "    .dataframe thead th {\n",
              "        text-align: right;\n",
              "    }\n",
              "</style>\n",
              "<table border=\"1\" class=\"dataframe\">\n",
              "  <thead>\n",
              "    <tr style=\"text-align: right;\">\n",
              "      <th></th>\n",
              "      <th>Title</th>\n",
              "      <th>Rating</th>\n",
              "    </tr>\n",
              "  </thead>\n",
              "  <tbody>\n",
              "    <tr>\n",
              "      <th>44</th>\n",
              "      <td>Supercop 2 (Project S) (Chao ji ji hua) (1993)</td>\n",
              "      <td>5.00</td>\n",
              "    </tr>\n",
              "    <tr>\n",
              "      <th>23</th>\n",
              "      <td>Phantasm II (1988)</td>\n",
              "      <td>5.00</td>\n",
              "    </tr>\n",
              "    <tr>\n",
              "      <th>30</th>\n",
              "      <td>Play House, The (1921)</td>\n",
              "      <td>5.00</td>\n",
              "    </tr>\n",
              "    <tr>\n",
              "      <th>7</th>\n",
              "      <td>Cul-de-sac (1966)</td>\n",
              "      <td>5.00</td>\n",
              "    </tr>\n",
              "    <tr>\n",
              "      <th>15</th>\n",
              "      <td>Knockin' on Heaven's Door (1997)</td>\n",
              "      <td>5.00</td>\n",
              "    </tr>\n",
              "    <tr>\n",
              "      <th>25</th>\n",
              "      <td>Pirate Movie, The (1982)</td>\n",
              "      <td>4.50</td>\n",
              "    </tr>\n",
              "    <tr>\n",
              "      <th>12</th>\n",
              "      <td>Find Me Guilty (2006)</td>\n",
              "      <td>4.50</td>\n",
              "    </tr>\n",
              "    <tr>\n",
              "      <th>39</th>\n",
              "      <td>Pompatus of Love, The (1996)</td>\n",
              "      <td>4.50</td>\n",
              "    </tr>\n",
              "    <tr>\n",
              "      <th>1</th>\n",
              "      <td>49 Up (2005)</td>\n",
              "      <td>4.38</td>\n",
              "    </tr>\n",
              "    <tr>\n",
              "      <th>13</th>\n",
              "      <td>Hearts of Darkness: A Filmmakers Apocalypse (1...</td>\n",
              "      <td>4.38</td>\n",
              "    </tr>\n",
              "    <tr>\n",
              "      <th>6</th>\n",
              "      <td>Circus, The (1928)</td>\n",
              "      <td>4.38</td>\n",
              "    </tr>\n",
              "    <tr>\n",
              "      <th>4</th>\n",
              "      <td>Big Country, The (1958)</td>\n",
              "      <td>4.38</td>\n",
              "    </tr>\n",
              "    <tr>\n",
              "      <th>26</th>\n",
              "      <td>Pixote (1981)</td>\n",
              "      <td>4.33</td>\n",
              "    </tr>\n",
              "    <tr>\n",
              "      <th>10</th>\n",
              "      <td>Fargo (1996)</td>\n",
              "      <td>4.26</td>\n",
              "    </tr>\n",
              "    <tr>\n",
              "      <th>42</th>\n",
              "      <td>Pulp Fiction (1994)</td>\n",
              "      <td>4.26</td>\n",
              "    </tr>\n",
              "  </tbody>\n",
              "</table>\n",
              "</div>"
            ],
            "text/plain": [
              "                                                Title  Rating\n",
              "44     Supercop 2 (Project S) (Chao ji ji hua) (1993)    5.00\n",
              "23                                 Phantasm II (1988)    5.00\n",
              "30                             Play House, The (1921)    5.00\n",
              "7                                   Cul-de-sac (1966)    5.00\n",
              "15                   Knockin' on Heaven's Door (1997)    5.00\n",
              "25                           Pirate Movie, The (1982)    4.50\n",
              "12                              Find Me Guilty (2006)    4.50\n",
              "39                       Pompatus of Love, The (1996)    4.50\n",
              "1                                        49 Up (2005)    4.38\n",
              "13  Hearts of Darkness: A Filmmakers Apocalypse (1...    4.38\n",
              "6                                  Circus, The (1928)    4.38\n",
              "4                             Big Country, The (1958)    4.38\n",
              "26                                      Pixote (1981)    4.33\n",
              "10                                       Fargo (1996)    4.26\n",
              "42                                Pulp Fiction (1994)    4.26"
            ]
          },
          "metadata": {
            "tags": []
          },
          "execution_count": 55
        }
      ]
    },
    {
      "cell_type": "code",
      "metadata": {
        "id": "3IppsEzhUyiV",
        "colab": {
          "base_uri": "https://localhost:8080/",
          "height": 0
        },
        "outputId": "6679236d-e272-42d9-b94b-5f4949b14867"
      },
      "source": [
        "final_movies = hybrid_rec_sys(200, 3, top)\n",
        "final_movies.head(top)\n",
        "# final_movies"
      ],
      "execution_count": 56,
      "outputs": [
        {
          "output_type": "stream",
          "text": [
            "Movie Watched :  Tie That Binds, The (1995)\n",
            "\n",
            "Content Based Done!!!\n",
            "Collaborative Item-Based Done!!!\n",
            "KNN Based Done!!!\n"
          ],
          "name": "stdout"
        },
        {
          "output_type": "execute_result",
          "data": {
            "text/html": [
              "<div>\n",
              "<style scoped>\n",
              "    .dataframe tbody tr th:only-of-type {\n",
              "        vertical-align: middle;\n",
              "    }\n",
              "\n",
              "    .dataframe tbody tr th {\n",
              "        vertical-align: top;\n",
              "    }\n",
              "\n",
              "    .dataframe thead th {\n",
              "        text-align: right;\n",
              "    }\n",
              "</style>\n",
              "<table border=\"1\" class=\"dataframe\">\n",
              "  <thead>\n",
              "    <tr style=\"text-align: right;\">\n",
              "      <th></th>\n",
              "      <th>Title</th>\n",
              "      <th>Rating</th>\n",
              "    </tr>\n",
              "  </thead>\n",
              "  <tbody>\n",
              "    <tr>\n",
              "      <th>39</th>\n",
              "      <td>Past, The (Le passé) (2013)</td>\n",
              "      <td>5.00</td>\n",
              "    </tr>\n",
              "    <tr>\n",
              "      <th>29</th>\n",
              "      <td>Paris, France (1993)</td>\n",
              "      <td>5.00</td>\n",
              "    </tr>\n",
              "    <tr>\n",
              "      <th>34</th>\n",
              "      <td>Passage to India, A (1984)</td>\n",
              "      <td>5.00</td>\n",
              "    </tr>\n",
              "    <tr>\n",
              "      <th>6</th>\n",
              "      <td>Borgman (2013)</td>\n",
              "      <td>5.00</td>\n",
              "    </tr>\n",
              "    <tr>\n",
              "      <th>32</th>\n",
              "      <td>Partly Cloudy (2009)</td>\n",
              "      <td>4.75</td>\n",
              "    </tr>\n",
              "    <tr>\n",
              "      <th>22</th>\n",
              "      <td>Paradise Now (2005)</td>\n",
              "      <td>4.67</td>\n",
              "    </tr>\n",
              "    <tr>\n",
              "      <th>36</th>\n",
              "      <td>Passenger, The (Professione: reporter) (1975)</td>\n",
              "      <td>4.50</td>\n",
              "    </tr>\n",
              "    <tr>\n",
              "      <th>44</th>\n",
              "      <td>Stay (2005)</td>\n",
              "      <td>4.50</td>\n",
              "    </tr>\n",
              "    <tr>\n",
              "      <th>28</th>\n",
              "      <td>Paris Is Burning (1990)</td>\n",
              "      <td>4.39</td>\n",
              "    </tr>\n",
              "    <tr>\n",
              "      <th>31</th>\n",
              "      <td>Paris, Texas (1984)</td>\n",
              "      <td>4.29</td>\n",
              "    </tr>\n",
              "    <tr>\n",
              "      <th>45</th>\n",
              "      <td>Steamboat Willie (1928)</td>\n",
              "      <td>4.29</td>\n",
              "    </tr>\n",
              "    <tr>\n",
              "      <th>21</th>\n",
              "      <td>Paradise Lost: The Child Murders at Robin Hood...</td>\n",
              "      <td>4.15</td>\n",
              "    </tr>\n",
              "    <tr>\n",
              "      <th>40</th>\n",
              "      <td>Right Stuff, The (1983)</td>\n",
              "      <td>3.91</td>\n",
              "    </tr>\n",
              "    <tr>\n",
              "      <th>4</th>\n",
              "      <td>Best Offer, The (Migliore offerta, La) (2013)</td>\n",
              "      <td>3.88</td>\n",
              "    </tr>\n",
              "    <tr>\n",
              "      <th>43</th>\n",
              "      <td>Spotlight (2015)</td>\n",
              "      <td>3.83</td>\n",
              "    </tr>\n",
              "  </tbody>\n",
              "</table>\n",
              "</div>"
            ],
            "text/plain": [
              "                                                Title  Rating\n",
              "39                        Past, The (Le passé) (2013)    5.00\n",
              "29                               Paris, France (1993)    5.00\n",
              "34                         Passage to India, A (1984)    5.00\n",
              "6                                      Borgman (2013)    5.00\n",
              "32                               Partly Cloudy (2009)    4.75\n",
              "22                                Paradise Now (2005)    4.67\n",
              "36      Passenger, The (Professione: reporter) (1975)    4.50\n",
              "44                                        Stay (2005)    4.50\n",
              "28                            Paris Is Burning (1990)    4.39\n",
              "31                                Paris, Texas (1984)    4.29\n",
              "45                            Steamboat Willie (1928)    4.29\n",
              "21  Paradise Lost: The Child Murders at Robin Hood...    4.15\n",
              "40                            Right Stuff, The (1983)    3.91\n",
              "4       Best Offer, The (Migliore offerta, La) (2013)    3.88\n",
              "43                                   Spotlight (2015)    3.83"
            ]
          },
          "metadata": {
            "tags": []
          },
          "execution_count": 56
        }
      ]
    },
    {
      "cell_type": "code",
      "metadata": {
        "id": "VIyBz400UyiV",
        "colab": {
          "base_uri": "https://localhost:8080/",
          "height": 0
        },
        "outputId": "60a7d4f9-70a6-41a7-c06f-5a1ca2e091ab"
      },
      "source": [
        "final_movies = hybrid_rec_sys(100, 4, top)\n",
        "final_movies.head(top)\n",
        "# final_movies"
      ],
      "execution_count": 57,
      "outputs": [
        {
          "output_type": "stream",
          "text": [
            "Movie Watched :  City Hall (1996)\n",
            "\n",
            "Content Based Done!!!\n",
            "Collaborative Item-Based Done!!!\n",
            "KNN Based Done!!!\n"
          ],
          "name": "stdout"
        },
        {
          "output_type": "execute_result",
          "data": {
            "text/html": [
              "<div>\n",
              "<style scoped>\n",
              "    .dataframe tbody tr th:only-of-type {\n",
              "        vertical-align: middle;\n",
              "    }\n",
              "\n",
              "    .dataframe tbody tr th {\n",
              "        vertical-align: top;\n",
              "    }\n",
              "\n",
              "    .dataframe thead th {\n",
              "        text-align: right;\n",
              "    }\n",
              "</style>\n",
              "<table border=\"1\" class=\"dataframe\">\n",
              "  <thead>\n",
              "    <tr style=\"text-align: right;\">\n",
              "      <th></th>\n",
              "      <th>Title</th>\n",
              "      <th>Rating</th>\n",
              "    </tr>\n",
              "  </thead>\n",
              "  <tbody>\n",
              "    <tr>\n",
              "      <th>24</th>\n",
              "      <td>Phantasm II (1988)</td>\n",
              "      <td>5.00</td>\n",
              "    </tr>\n",
              "    <tr>\n",
              "      <th>43</th>\n",
              "      <td>State of Siege (État de siège) (1972)</td>\n",
              "      <td>5.00</td>\n",
              "    </tr>\n",
              "    <tr>\n",
              "      <th>30</th>\n",
              "      <td>Play House, The (1921)</td>\n",
              "      <td>5.00</td>\n",
              "    </tr>\n",
              "    <tr>\n",
              "      <th>19</th>\n",
              "      <td>Neighbouring Sounds (O som ao redor) (2012)</td>\n",
              "      <td>5.00</td>\n",
              "    </tr>\n",
              "    <tr>\n",
              "      <th>46</th>\n",
              "      <td>Ugetsu (Ugetsu monogatari) (1953)</td>\n",
              "      <td>4.75</td>\n",
              "    </tr>\n",
              "    <tr>\n",
              "      <th>15</th>\n",
              "      <td>Love &amp; Human Remains (1993)</td>\n",
              "      <td>4.70</td>\n",
              "    </tr>\n",
              "    <tr>\n",
              "      <th>9</th>\n",
              "      <td>Debt, The (2011)</td>\n",
              "      <td>4.50</td>\n",
              "    </tr>\n",
              "    <tr>\n",
              "      <th>39</th>\n",
              "      <td>Pompatus of Love, The (1996)</td>\n",
              "      <td>4.50</td>\n",
              "    </tr>\n",
              "    <tr>\n",
              "      <th>25</th>\n",
              "      <td>Pirate Movie, The (1982)</td>\n",
              "      <td>4.50</td>\n",
              "    </tr>\n",
              "    <tr>\n",
              "      <th>0</th>\n",
              "      <td>23 (23 - Nichts ist so wie es scheint) (1998)</td>\n",
              "      <td>4.50</td>\n",
              "    </tr>\n",
              "    <tr>\n",
              "      <th>13</th>\n",
              "      <td>Kid, The (1921)</td>\n",
              "      <td>4.44</td>\n",
              "    </tr>\n",
              "    <tr>\n",
              "      <th>5</th>\n",
              "      <td>Carnal Knowledge (1971)</td>\n",
              "      <td>4.44</td>\n",
              "    </tr>\n",
              "    <tr>\n",
              "      <th>10</th>\n",
              "      <td>Decalogue, The (Dekalog) (1989)</td>\n",
              "      <td>4.40</td>\n",
              "    </tr>\n",
              "    <tr>\n",
              "      <th>26</th>\n",
              "      <td>Pixote (1981)</td>\n",
              "      <td>4.33</td>\n",
              "    </tr>\n",
              "    <tr>\n",
              "      <th>7</th>\n",
              "      <td>Conversation, The (1974)</td>\n",
              "      <td>4.30</td>\n",
              "    </tr>\n",
              "  </tbody>\n",
              "</table>\n",
              "</div>"
            ],
            "text/plain": [
              "                                            Title  Rating\n",
              "24                             Phantasm II (1988)    5.00\n",
              "43          State of Siege (État de siège) (1972)    5.00\n",
              "30                         Play House, The (1921)    5.00\n",
              "19    Neighbouring Sounds (O som ao redor) (2012)    5.00\n",
              "46              Ugetsu (Ugetsu monogatari) (1953)    4.75\n",
              "15                    Love & Human Remains (1993)    4.70\n",
              "9                                Debt, The (2011)    4.50\n",
              "39                   Pompatus of Love, The (1996)    4.50\n",
              "25                       Pirate Movie, The (1982)    4.50\n",
              "0   23 (23 - Nichts ist so wie es scheint) (1998)    4.50\n",
              "13                                Kid, The (1921)    4.44\n",
              "5                         Carnal Knowledge (1971)    4.44\n",
              "10                Decalogue, The (Dekalog) (1989)    4.40\n",
              "26                                  Pixote (1981)    4.33\n",
              "7                        Conversation, The (1974)    4.30"
            ]
          },
          "metadata": {
            "tags": []
          },
          "execution_count": 57
        }
      ]
    },
    {
      "cell_type": "code",
      "metadata": {
        "id": "Wc7YxIapUyiW",
        "colab": {
          "base_uri": "https://localhost:8080/",
          "height": 0
        },
        "outputId": "72801dd0-b656-4afc-e52d-7ff3a0bfe25c"
      },
      "source": [
        "final_movies = hybrid_rec_sys(150, 4, top)\n",
        "final_movies.head(top)\n",
        "# final_movies"
      ],
      "execution_count": 58,
      "outputs": [
        {
          "output_type": "stream",
          "text": [
            "Movie Watched :  Apollo 13 (1995)\n",
            "\n",
            "Content Based Done!!!\n",
            "Collaborative Item-Based Done!!!\n",
            "KNN Based Done!!!\n"
          ],
          "name": "stdout"
        },
        {
          "output_type": "execute_result",
          "data": {
            "text/html": [
              "<div>\n",
              "<style scoped>\n",
              "    .dataframe tbody tr th:only-of-type {\n",
              "        vertical-align: middle;\n",
              "    }\n",
              "\n",
              "    .dataframe tbody tr th {\n",
              "        vertical-align: top;\n",
              "    }\n",
              "\n",
              "    .dataframe thead th {\n",
              "        text-align: right;\n",
              "    }\n",
              "</style>\n",
              "<table border=\"1\" class=\"dataframe\">\n",
              "  <thead>\n",
              "    <tr style=\"text-align: right;\">\n",
              "      <th></th>\n",
              "      <th>Title</th>\n",
              "      <th>Rating</th>\n",
              "    </tr>\n",
              "  </thead>\n",
              "  <tbody>\n",
              "    <tr>\n",
              "      <th>43</th>\n",
              "      <td>Secretariat (2010)</td>\n",
              "      <td>5.0</td>\n",
              "    </tr>\n",
              "    <tr>\n",
              "      <th>18</th>\n",
              "      <td>Passage to India, A (1984)</td>\n",
              "      <td>5.0</td>\n",
              "    </tr>\n",
              "    <tr>\n",
              "      <th>27</th>\n",
              "      <td>Play House, The (1921)</td>\n",
              "      <td>5.0</td>\n",
              "    </tr>\n",
              "    <tr>\n",
              "      <th>39</th>\n",
              "      <td>Prisoner of the Mountains (Kavkazsky plennik) ...</td>\n",
              "      <td>5.0</td>\n",
              "    </tr>\n",
              "    <tr>\n",
              "      <th>20</th>\n",
              "      <td>Phantasm II (1988)</td>\n",
              "      <td>5.0</td>\n",
              "    </tr>\n",
              "    <tr>\n",
              "      <th>42</th>\n",
              "      <td>Secret, The (2006)</td>\n",
              "      <td>5.0</td>\n",
              "    </tr>\n",
              "    <tr>\n",
              "      <th>12</th>\n",
              "      <td>Message to Love: The Isle of Wight Festival (1...</td>\n",
              "      <td>5.0</td>\n",
              "    </tr>\n",
              "    <tr>\n",
              "      <th>1</th>\n",
              "      <td>Angel Baby (1995)</td>\n",
              "      <td>5.0</td>\n",
              "    </tr>\n",
              "    <tr>\n",
              "      <th>45</th>\n",
              "      <td>Two Escobars, The (2010)</td>\n",
              "      <td>5.0</td>\n",
              "    </tr>\n",
              "    <tr>\n",
              "      <th>9</th>\n",
              "      <td>Howl (2010)</td>\n",
              "      <td>5.0</td>\n",
              "    </tr>\n",
              "    <tr>\n",
              "      <th>8</th>\n",
              "      <td>Hotel de Love (1996)</td>\n",
              "      <td>5.0</td>\n",
              "    </tr>\n",
              "    <tr>\n",
              "      <th>7</th>\n",
              "      <td>Hair (1979)</td>\n",
              "      <td>5.0</td>\n",
              "    </tr>\n",
              "    <tr>\n",
              "      <th>6</th>\n",
              "      <td>Grass Is Greener, The (1960)</td>\n",
              "      <td>5.0</td>\n",
              "    </tr>\n",
              "    <tr>\n",
              "      <th>5</th>\n",
              "      <td>Even Dwarfs Started Small (Auch Zwerge haben k...</td>\n",
              "      <td>5.0</td>\n",
              "    </tr>\n",
              "    <tr>\n",
              "      <th>21</th>\n",
              "      <td>Phantom of the Paradise (1974)</td>\n",
              "      <td>5.0</td>\n",
              "    </tr>\n",
              "  </tbody>\n",
              "</table>\n",
              "</div>"
            ],
            "text/plain": [
              "                                                Title  Rating\n",
              "43                                 Secretariat (2010)     5.0\n",
              "18                         Passage to India, A (1984)     5.0\n",
              "27                             Play House, The (1921)     5.0\n",
              "39  Prisoner of the Mountains (Kavkazsky plennik) ...     5.0\n",
              "20                                 Phantasm II (1988)     5.0\n",
              "42                                 Secret, The (2006)     5.0\n",
              "12  Message to Love: The Isle of Wight Festival (1...     5.0\n",
              "1                                   Angel Baby (1995)     5.0\n",
              "45                           Two Escobars, The (2010)     5.0\n",
              "9                                         Howl (2010)     5.0\n",
              "8                                Hotel de Love (1996)     5.0\n",
              "7                                         Hair (1979)     5.0\n",
              "6                        Grass Is Greener, The (1960)     5.0\n",
              "5   Even Dwarfs Started Small (Auch Zwerge haben k...     5.0\n",
              "21                     Phantom of the Paradise (1974)     5.0"
            ]
          },
          "metadata": {
            "tags": []
          },
          "execution_count": 58
        }
      ]
    },
    {
      "cell_type": "code",
      "metadata": {
        "id": "tcCBM47kUyiW",
        "colab": {
          "base_uri": "https://localhost:8080/",
          "height": 0
        },
        "outputId": "ab5bffb5-d992-4165-943f-84cc8a7409c8"
      },
      "source": [
        "final_movies = hybrid_rec_sys(5, 4.5, top)\n",
        "final_movies.head(top)\n",
        "# final_movies"
      ],
      "execution_count": 59,
      "outputs": [
        {
          "output_type": "stream",
          "text": [
            "Movie Watched :  Father of the Bride Part II (1995)\n",
            "\n",
            "Content Based Done!!!\n",
            "Collaborative Item-Based Done!!!\n",
            "KNN Based Done!!!\n"
          ],
          "name": "stdout"
        },
        {
          "output_type": "execute_result",
          "data": {
            "text/html": [
              "<div>\n",
              "<style scoped>\n",
              "    .dataframe tbody tr th:only-of-type {\n",
              "        vertical-align: middle;\n",
              "    }\n",
              "\n",
              "    .dataframe tbody tr th {\n",
              "        vertical-align: top;\n",
              "    }\n",
              "\n",
              "    .dataframe thead th {\n",
              "        text-align: right;\n",
              "    }\n",
              "</style>\n",
              "<table border=\"1\" class=\"dataframe\">\n",
              "  <thead>\n",
              "    <tr style=\"text-align: right;\">\n",
              "      <th></th>\n",
              "      <th>Title</th>\n",
              "      <th>Rating</th>\n",
              "    </tr>\n",
              "  </thead>\n",
              "  <tbody>\n",
              "    <tr>\n",
              "      <th>17</th>\n",
              "      <td>George Carlin: Life Is Worth Losing (2005)</td>\n",
              "      <td>5.0</td>\n",
              "    </tr>\n",
              "    <tr>\n",
              "      <th>43</th>\n",
              "      <td>Reality (2014)</td>\n",
              "      <td>5.0</td>\n",
              "    </tr>\n",
              "    <tr>\n",
              "      <th>33</th>\n",
              "      <td>Patience Stone, The (2012)</td>\n",
              "      <td>5.0</td>\n",
              "    </tr>\n",
              "    <tr>\n",
              "      <th>31</th>\n",
              "      <td>Past, The (Le passé) (2013)</td>\n",
              "      <td>5.0</td>\n",
              "    </tr>\n",
              "    <tr>\n",
              "      <th>39</th>\n",
              "      <td>Peter Pan (1960)</td>\n",
              "      <td>5.0</td>\n",
              "    </tr>\n",
              "    <tr>\n",
              "      <th>29</th>\n",
              "      <td>Passage to India, A (1984)</td>\n",
              "      <td>5.0</td>\n",
              "    </tr>\n",
              "    <tr>\n",
              "      <th>27</th>\n",
              "      <td>Paris, France (1993)</td>\n",
              "      <td>5.0</td>\n",
              "    </tr>\n",
              "    <tr>\n",
              "      <th>40</th>\n",
              "      <td>Phantasm II (1988)</td>\n",
              "      <td>5.0</td>\n",
              "    </tr>\n",
              "    <tr>\n",
              "      <th>1</th>\n",
              "      <td>29th and Gay (2005)</td>\n",
              "      <td>5.0</td>\n",
              "    </tr>\n",
              "    <tr>\n",
              "      <th>18</th>\n",
              "      <td>George Carlin: You Are All Diseased (1999)</td>\n",
              "      <td>5.0</td>\n",
              "    </tr>\n",
              "    <tr>\n",
              "      <th>16</th>\n",
              "      <td>George Carlin: Jammin' in New York (1992)</td>\n",
              "      <td>5.0</td>\n",
              "    </tr>\n",
              "    <tr>\n",
              "      <th>15</th>\n",
              "      <td>George Carlin: It's Bad for Ya! (2008)</td>\n",
              "      <td>5.0</td>\n",
              "    </tr>\n",
              "    <tr>\n",
              "      <th>14</th>\n",
              "      <td>George Carlin: Back in Town (1996)</td>\n",
              "      <td>5.0</td>\n",
              "    </tr>\n",
              "    <tr>\n",
              "      <th>37</th>\n",
              "      <td>Pervert's Guide to Cinema, The (2006)</td>\n",
              "      <td>5.0</td>\n",
              "    </tr>\n",
              "    <tr>\n",
              "      <th>44</th>\n",
              "      <td>Robin Williams: Weapons of Self Destruction (2...</td>\n",
              "      <td>5.0</td>\n",
              "    </tr>\n",
              "  </tbody>\n",
              "</table>\n",
              "</div>"
            ],
            "text/plain": [
              "                                                Title  Rating\n",
              "17         George Carlin: Life Is Worth Losing (2005)     5.0\n",
              "43                                     Reality (2014)     5.0\n",
              "33                         Patience Stone, The (2012)     5.0\n",
              "31                        Past, The (Le passé) (2013)     5.0\n",
              "39                                   Peter Pan (1960)     5.0\n",
              "29                         Passage to India, A (1984)     5.0\n",
              "27                               Paris, France (1993)     5.0\n",
              "40                                 Phantasm II (1988)     5.0\n",
              "1                                 29th and Gay (2005)     5.0\n",
              "18         George Carlin: You Are All Diseased (1999)     5.0\n",
              "16          George Carlin: Jammin' in New York (1992)     5.0\n",
              "15             George Carlin: It's Bad for Ya! (2008)     5.0\n",
              "14                 George Carlin: Back in Town (1996)     5.0\n",
              "37              Pervert's Guide to Cinema, The (2006)     5.0\n",
              "44  Robin Williams: Weapons of Self Destruction (2...     5.0"
            ]
          },
          "metadata": {
            "tags": []
          },
          "execution_count": 59
        }
      ]
    },
    {
      "cell_type": "code",
      "metadata": {
        "id": "gf3ROzIGUyiW"
      },
      "source": [
        ""
      ],
      "execution_count": 59,
      "outputs": []
    },
    {
      "cell_type": "code",
      "metadata": {
        "id": "kcuJsb9lUyiW"
      },
      "source": [
        ""
      ],
      "execution_count": 59,
      "outputs": []
    },
    {
      "cell_type": "code",
      "metadata": {
        "id": "dUA8Op5nUyiW"
      },
      "source": [
        ""
      ],
      "execution_count": 59,
      "outputs": []
    },
    {
      "cell_type": "code",
      "metadata": {
        "id": "zjnc8AqTUyiX"
      },
      "source": [
        ""
      ],
      "execution_count": 59,
      "outputs": []
    },
    {
      "cell_type": "code",
      "metadata": {
        "id": "1dZMjShPUyiX"
      },
      "source": [
        ""
      ],
      "execution_count": 59,
      "outputs": []
    },
    {
      "cell_type": "code",
      "metadata": {
        "id": "y4IVgLFCUyiX"
      },
      "source": [
        ""
      ],
      "execution_count": 59,
      "outputs": []
    },
    {
      "cell_type": "code",
      "metadata": {
        "id": "PPbVOvV0UyiX"
      },
      "source": [
        ""
      ],
      "execution_count": 59,
      "outputs": []
    },
    {
      "cell_type": "markdown",
      "metadata": {
        "id": "-4NSJkFmUyiX"
      },
      "source": [
        "---"
      ]
    }
  ]
}